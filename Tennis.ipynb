{
 "cells": [
  {
   "cell_type": "markdown",
   "metadata": {},
   "source": [
    "# Collaboration and Competition\n",
    "\n",
    "---\n",
    "\n",
    "In this notebook, we will practice how to use the Unity ML-Agents environment for the third project of the [Deep Reinforcement Learning Nanodegree](https://www.udacity.com/course/deep-reinforcement-learning-nanodegree--nd893) program.\n",
    "\n",
    "### 1. Start the Environment\n",
    "\n",
    "We begin by importing the necessary packages. If the code cell below returns an error, please revisit the project instructions to double-check that you have installed [Unity ML-Agents](https://github.com/Unity-Technologies/ml-agents/blob/master/docs/Installation.md) and [NumPy](http://www.numpy.org/)."
   ]
  },
  {
   "cell_type": "code",
   "execution_count": 1,
   "metadata": {},
   "outputs": [],
   "source": [
    "from unityagents import UnityEnvironment\n",
    "import numpy as np"
   ]
  },
  {
   "cell_type": "markdown",
   "metadata": {},
   "source": [
    "Next, we will start the environment!  **_Before running the code cell below_**, change the `file_name` parameter to match the location of the Unity environment that you downloaded.\n",
    "\n",
    "- **Mac**: `\"path/to/Tennis.app\"`\n",
    "- **Windows** (x86): `\"path/to/Tennis_Windows_x86/Tennis.exe\"`\n",
    "- **Windows** (x86_64): `\"path/to/Tennis_Windows_x86_64/Tennis.exe\"`\n",
    "- **Linux** (x86): `\"path/to/Tennis_Linux/Tennis.x86\"`\n",
    "- **Linux** (x86_64): `\"path/to/Tennis_Linux/Tennis.x86_64\"`\n",
    "- **Linux** (x86, headless): `\"path/to/Tennis_Linux_NoVis/Tennis.x86\"`\n",
    "- **Linux** (x86_64, headless): `\"path/to/Tennis_Linux_NoVis/Tennis.x86_64\"`\n",
    "\n",
    "For instance, if you are using a Mac, then you downloaded `Tennis.app`.  If this file is in the same folder as the notebook, then the line below should appear as follows:\n",
    "```\n",
    "env = UnityEnvironment(file_name=\"Tennis.app\")\n",
    "```"
   ]
  },
  {
   "cell_type": "code",
   "execution_count": 2,
   "metadata": {},
   "outputs": [
    {
     "name": "stderr",
     "output_type": "stream",
     "text": [
      "INFO:unityagents:\n",
      "'Academy' started successfully!\n",
      "Unity Academy name: Academy\n",
      "        Number of Brains: 1\n",
      "        Number of External Brains : 1\n",
      "        Lesson number : 0\n",
      "        Reset Parameters :\n",
      "\t\t\n",
      "Unity brain name: TennisBrain\n",
      "        Number of Visual Observations (per agent): 0\n",
      "        Vector Observation space type: continuous\n",
      "        Vector Observation space size (per agent): 8\n",
      "        Number of stacked Vector Observation: 3\n",
      "        Vector Action space type: continuous\n",
      "        Vector Action space size (per agent): 2\n",
      "        Vector Action descriptions: , \n"
     ]
    }
   ],
   "source": [
    "env = UnityEnvironment(file_name=\"Tennis_Windows_x86_64/Tennis.exe\")"
   ]
  },
  {
   "cell_type": "markdown",
   "metadata": {},
   "source": [
    "Environments contain **_brains_** which are responsible for deciding the actions of their associated agents. Here we check for the first brain available, and set it as the default brain we will be controlling from Python."
   ]
  },
  {
   "cell_type": "code",
   "execution_count": 3,
   "metadata": {},
   "outputs": [],
   "source": [
    "# get the default brain\n",
    "brain_name = env.brain_names[0]\n",
    "brain = env.brains[brain_name]"
   ]
  },
  {
   "cell_type": "markdown",
   "metadata": {},
   "source": [
    "### 2. Examine the State and Action Spaces\n",
    "\n",
    "In this environment, two agents control rackets to bounce a ball over a net. If an agent hits the ball over the net, it receives a reward of +0.1.  If an agent lets a ball hit the ground or hits the ball out of bounds, it receives a reward of -0.01.  Thus, the goal of each agent is to keep the ball in play.\n",
    "\n",
    "The observation space consists of 8 variables corresponding to the position and velocity of the ball and racket. Two continuous actions are available, corresponding to movement toward (or away from) the net, and jumping. \n",
    "\n",
    "Run the code cell below to print some information about the environment."
   ]
  },
  {
   "cell_type": "code",
   "execution_count": 4,
   "metadata": {},
   "outputs": [
    {
     "name": "stdout",
     "output_type": "stream",
     "text": [
      "Number of agents: 2\n",
      "Size of each action: 2\n",
      "There are 2 agents. Each observes a state with length: 24\n",
      "The state for the first agent looks like: [ 0.          0.          0.          0.          0.          0.\n",
      "  0.          0.          0.          0.          0.          0.\n",
      "  0.          0.          0.          0.         -6.65278625 -1.5\n",
      " -0.          0.          6.83172083  6.         -0.          0.        ]\n"
     ]
    }
   ],
   "source": [
    "# reset the environment\n",
    "env_info = env.reset(train_mode=True)[brain_name]\n",
    "\n",
    "# number of agents \n",
    "num_agents = len(env_info.agents)\n",
    "print('Number of agents:', num_agents)\n",
    "\n",
    "# size of each action\n",
    "action_size = brain.vector_action_space_size\n",
    "print('Size of each action:', action_size)\n",
    "\n",
    "# examine the state space \n",
    "states = env_info.vector_observations\n",
    "state_size = states.shape[1]\n",
    "print('There are {} agents. Each observes a state with length: {}'.format(states.shape[0], state_size))\n",
    "print('The state for the first agent looks like:', states[0])"
   ]
  },
  {
   "cell_type": "markdown",
   "metadata": {},
   "source": [
    "### 3. Take Random Actions in the Environment\n",
    "\n",
    "In the next code cell, you will learn how to use the Python API to control the agents and receive feedback from the environment.\n",
    "\n",
    "Once this cell is executed, you will watch the agents' performance, if they select actions at random with each time step.  A window should pop up that allows you to observe the agents.\n",
    "\n",
    "Of course, as part of the project, you'll have to change the code so that the agents are able to use their experiences to gradually choose better actions when interacting with the environment!"
   ]
  },
  {
   "cell_type": "markdown",
   "metadata": {},
   "source": [
    "for i in range(1, 6):                                      # play game for 5 episodes\n",
    "    env_info = env.reset(train_mode=False)[brain_name]     # reset the environment    \n",
    "    states = env_info.vector_observations                  # get the current state (for each agent)\n",
    "    scores = np.zeros(num_agents)                          # initialize the score (for each agent)\n",
    "    while True:\n",
    "        actions = np.random.randn(num_agents, action_size) # select an action (for each agent)\n",
    "        actions = np.clip(actions, -1, 1)                  # all actions between -1 and 1\n",
    "        env_info = env.step(actions)[brain_name]           # send all actions to tne environment\n",
    "        next_states = env_info.vector_observations         # get next state (for each agent)\n",
    "        rewards = env_info.rewards                         # get reward (for each agent)\n",
    "        dones = env_info.local_done                        # see if episode finished\n",
    "        scores += env_info.rewards                         # update the score (for each agent)\n",
    "        states = next_states                               # roll over states to next time step\n",
    "        if np.any(dones):                                  # exit loop if episode finished\n",
    "            break\n",
    "    print('Score (max over agents) from episode {}: {}'.format(i, np.max(scores)))"
   ]
  },
  {
   "cell_type": "markdown",
   "metadata": {},
   "source": [
    "When finished, you can close the environment."
   ]
  },
  {
   "cell_type": "markdown",
   "metadata": {},
   "source": [
    "env.close()"
   ]
  },
  {
   "cell_type": "markdown",
   "metadata": {},
   "source": [
    "### 4. It's Your Turn!\n",
    "\n",
    "Now it's your turn to train your own agent to solve the environment!  When training the environment, set `train_mode=True`, so that the line for resetting the environment looks like the following:\n",
    "```python\n",
    "env_info = env.reset(train_mode=True)[brain_name]\n",
    "```"
   ]
  },
  {
   "cell_type": "code",
   "execution_count": 14,
   "metadata": {
    "scrolled": true
   },
   "outputs": [
    {
     "name": "stdout",
     "output_type": "stream",
     "text": [
      "Episode 100\tAverage Score: 0.0245\n",
      "Episode 200\tAverage Score: 0.0096\n",
      "Episode 300\tAverage Score: 0.0079\n",
      "Episode 400\tAverage Score: 0.0039\n",
      "Episode 500\tAverage Score: 0.0010\n",
      "Episode 600\tAverage Score: 0.0028\n",
      "Episode 700\tAverage Score: 0.0030\n",
      "Episode 800\tAverage Score: 0.0030\n",
      "Episode 900\tAverage Score: 0.0000\n",
      "Episode 1000\tAverage Score: 0.0009\n",
      "Episode 1100\tAverage Score: 0.0000\n",
      "Episode 1200\tAverage Score: 0.0000\n",
      "Episode 1300\tAverage Score: 0.0000\n",
      "Episode 1400\tAverage Score: 0.0000\n",
      "Episode 1500\tAverage Score: 0.0037\n",
      "Episode 1600\tAverage Score: 0.0009\n",
      "Episode 1700\tAverage Score: 0.0000\n",
      "Episode 1800\tAverage Score: 0.0000\n",
      "Episode 1900\tAverage Score: 0.0020\n",
      "Episode 2000\tAverage Score: 0.0009\n",
      "Episode 2100\tAverage Score: 0.0000\n",
      "Episode 2200\tAverage Score: 0.0070\n",
      "Episode 2300\tAverage Score: 0.0120\n",
      "Episode 2400\tAverage Score: 0.0150\n",
      "Episode 2500\tAverage Score: 0.0120\n",
      "Episode 2600\tAverage Score: 0.0134\n",
      "Episode 2700\tAverage Score: 0.0009\n",
      "Episode 2800\tAverage Score: 0.0000\n",
      "Episode 2900\tAverage Score: 0.0000\n",
      "Episode 3000\tAverage Score: 0.0000\n",
      "Episode 3100\tAverage Score: 0.0000\n",
      "Episode 3200\tAverage Score: 0.0069\n",
      "Episode 3300\tAverage Score: 0.0301\n",
      "Episode 3400\tAverage Score: 0.0196\n",
      "Episode 3500\tAverage Score: 0.0268\n",
      "Episode 3600\tAverage Score: 0.0150\n",
      "Episode 3700\tAverage Score: 0.0130\n",
      "Episode 3800\tAverage Score: 0.0240\n",
      "Episode 3900\tAverage Score: 0.0100\n",
      "Episode 4000\tAverage Score: 0.0040\n",
      "Episode 4100\tAverage Score: 0.0049\n",
      "Episode 4200\tAverage Score: 0.0019\n",
      "Episode 4300\tAverage Score: 0.0048\n",
      "Episode 4400\tAverage Score: 0.0010\n",
      "Episode 4500\tAverage Score: 0.0158\n",
      "Episode 4600\tAverage Score: 0.0354\n",
      "Episode 4700\tAverage Score: 0.0421\n",
      "Episode 4800\tAverage Score: 0.0453\n",
      "Episode 4900\tAverage Score: 0.0393\n",
      "Episode 5000\tAverage Score: 0.0492\n",
      "Episode 5100\tAverage Score: 0.0326\n",
      "Episode 5200\tAverage Score: 0.0530\n",
      "Episode 5300\tAverage Score: 0.0970\n",
      "Episode 5400\tAverage Score: 0.1145\n",
      "Episode 5500\tAverage Score: 0.0935\n",
      "Episode 5600\tAverage Score: 0.0992\n",
      "Episode 5700\tAverage Score: 0.0970\n",
      "Episode 5800\tAverage Score: 0.0901\n",
      "Episode 5900\tAverage Score: 0.1716\n",
      "Episode 6000\tAverage Score: 0.1012\n",
      "Episode 6100\tAverage Score: 0.1287\n",
      "Episode 6200\tAverage Score: 0.1381\n",
      "Episode 6300\tAverage Score: 0.1422\n",
      "Episode 6400\tAverage Score: 0.2195\n",
      "Episode 6500\tAverage Score: 0.1920\n",
      "Episode 6600\tAverage Score: 0.5268\n",
      "Episode 6700\tAverage Score: 0.6995\n",
      "Episode 6800\tAverage Score: 0.8810\n",
      "Episode 6900\tAverage Score: 0.8254\n",
      "Episode 7000\tAverage Score: 0.4412\n",
      "Episode 7100\tAverage Score: 0.5704\n",
      "Episode 7200\tAverage Score: 0.9157\n",
      "Episode 7300\tAverage Score: 0.7251\n",
      "Episode 7400\tAverage Score: 0.6437\n",
      "Episode 7500\tAverage Score: 0.4816\n",
      "Episode 7600\tAverage Score: 0.6574\n",
      "Episode 7700\tAverage Score: 0.6995\n",
      "Episode 7800\tAverage Score: 0.5849\n",
      "Episode 7900\tAverage Score: 0.9837\n",
      "Episode 8000\tAverage Score: 0.8997\n",
      "Episode 8100\tAverage Score: 0.5194\n",
      "Episode 8200\tAverage Score: 0.9254\n",
      "Episode 8300\tAverage Score: 0.6496\n",
      "Episode 8400\tAverage Score: 0.8228\n",
      "Episode 8500\tAverage Score: 0.2695\n",
      "Episode 8600\tAverage Score: 0.3106\n",
      "Episode 8700\tAverage Score: 0.8617\n",
      "Episode 8800\tAverage Score: 0.9595\n",
      "Episode 8900\tAverage Score: 0.7746\n",
      "Episode 9000\tAverage Score: 0.5204\n",
      "Episode 9100\tAverage Score: 0.9988\n",
      "Episode 9200\tAverage Score: 0.9829\n",
      "Episode 9300\tAverage Score: 0.5046\n",
      "Episode 9400\tAverage Score: 1.1340\n",
      "Episode 9500\tAverage Score: 0.8735\n",
      "Episode 9600\tAverage Score: 1.2034\n",
      "Episode 9700\tAverage Score: 1.0803\n",
      "Episode 9800\tAverage Score: 0.5027\n",
      "Episode 9900\tAverage Score: 0.4814\n",
      "Episode 10000\tAverage Score: 0.8666\n"
     ]
    }
   ],
   "source": [
    "import importlib\n",
    "from collections import deque\n",
    "from multi_agents import MultiAgents\n",
    "import sys\n",
    "importlib.reload(sys.modules['model'])\n",
    "importlib.reload(sys.modules['ddpg_agent'])\n",
    "importlib.reload(sys.modules['multi_agents'])\n",
    "import torch\n",
    "import matplotlib.pyplot as plt\n",
    "\n",
    "agents = MultiAgents(state_size=state_size, num_agents=num_agents, action_size=action_size, random_seed=1)\n",
    "\n",
    "def ddpg(n_episodes=1000, print_every=100):\n",
    "    scores_deque = deque(maxlen=print_every)\n",
    "    scores = []\n",
    "    for i_episode in range(1, n_episodes+1):\n",
    "        env_info = env.reset(train_mode=True)[brain_name]\n",
    "        states = env_info.vector_observations\n",
    "        agents.reset()\n",
    "        score = np.zeros(num_agents)\n",
    "        while True:\n",
    "            ##################### actions = agents.act(states, add_noise=True, steps=steps)\n",
    "            actions = agents.act(states, add_noise=True, i_episode=i_episode)\n",
    "            # print(actions)\n",
    "            env_info = env.step(actions)[brain_name]           # send all actions to tne environment\n",
    "            next_states = env_info.vector_observations         # get next state (for each agent)\n",
    "            rewards = env_info.rewards                         # get reward (for each agent)\n",
    "            dones = env_info.local_done                        # see if episode finished\n",
    "            \n",
    "            ###### agents.step(states, actions, rewards, next_states, dones, steps=steps)\n",
    "            agents.step(states, actions, rewards, next_states, dones, i_episode=i_episode)\n",
    "            states = next_states\n",
    "            score += rewards\n",
    "            if np.any(dones):\n",
    "                break\n",
    "        scores_deque.append(np.max(score))\n",
    "        scores.append(np.max(score))\n",
    "        #print(steps)\n",
    "        print('\\rEpisode {}\\tAverage Score: {:.4f}'.format(i_episode, np.mean(scores_deque)), end=\"\")\n",
    "        for i, agent in enumerate(agents.agents):\n",
    "            torch.save(agent.actor_local.state_dict(), 'checkpoint_actor{}.pth'.format(i))\n",
    "            torch.save(agent.critic_local.state_dict(), 'checkpoint_critic{}.pth'.format(i))\n",
    "        if i_episode % print_every == 0:\n",
    "            print('\\rEpisode {}\\tAverage Score: {:.4f}'.format(i_episode, np.mean(scores_deque)))\n",
    "    # env.close()\n",
    "    return scores\n",
    "\n",
    "scores = ddpg(n_episodes=10000)\n",
    "# scores = ddpg(n_episodes=10)"
   ]
  },
  {
   "cell_type": "code",
   "execution_count": 54,
   "metadata": {},
   "outputs": [
    {
     "name": "stdout",
     "output_type": "stream",
     "text": [
      "Goal achieved in episode:  6598\n"
     ]
    }
   ],
   "source": [
    "target = 0.5\n",
    "first_running_mean_scores = [sum(scores[:i]) / i for i in range(1, 100)]\n",
    "running_mean_scores = np.convolve(scores, np.ones(100)/100, mode='valid')\n",
    "running_mean_scores = np.concatenate([first_running_mean_scores, running_mean_scores])\n",
    "goal_episode = min([i for i in range(len(running_mean_scores)) if running_mean_scores[i]>target])\n",
    "print(\"Goal achieved in episode: \", goal_episode)"
   ]
  },
  {
   "cell_type": "code",
   "execution_count": 55,
   "metadata": {},
   "outputs": [
    {
     "data": {
      "image/png": "[encoded data removed]",
      "text/plain": [
       "<Figure size 432x288 with 1 Axes>"
      ]
     },
     "metadata": {
      "needs_background": "light"
     },
     "output_type": "display_data"
    }
   ],
   "source": [
    "# plot the scores\n",
    "fig = plt.figure()\n",
    "ax = fig.add_subplot(111)\n",
    "plt.plot(np.arange(len(scores)), scores, label=\"Score\")\n",
    "plt.plot(running_mean_scores, label=\"Mean score\");\n",
    "plt.plot([0, len(scores)], [target, target]);\n",
    "plt.plot([goal_episode-1, goal_episode-1], [0, 1.03*max(scores)]);\n",
    "plt.xlim(0, 1.005*len(scores))\n",
    "plt.ylim(min(scores), 1.03*max(scores))\n",
    "plt.ylabel('Score')\n",
    "plt.xlabel('Episode #')\n",
    "plt.legend()\n",
    "plt.savefig(\"score_by_episode.png\")"
   ]
  }
 ],
 "metadata": {
  "kernelspec": {
   "display_name": "drlnd",
   "language": "python",
   "name": "drlnd"
  },
  "language_info": {
   "codemirror_mode": {
    "name": "ipython",
    "version": 3
   },
   "file_extension": ".py",
   "mimetype": "text/x-python",
   "name": "python",
   "nbconvert_exporter": "python",
   "pygments_lexer": "ipython3",
   "version": "3.6.13"
  }
 },
 "nbformat": 4,
 "nbformat_minor": 2
}
